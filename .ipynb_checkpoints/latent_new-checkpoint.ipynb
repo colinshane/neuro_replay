{
 "cells": [
  {
   "cell_type": "code",
   "execution_count": 1,
   "metadata": {
    "collapsed": false
   },
   "outputs": [],
   "source": [
    "import numpy as np\n",
    "import matplotlib\n",
    "matplotlib.use('Agg')\n",
    "import matplotlib.pyplot as plt\n",
    "import matplotlib.mlab as mlab\n",
    "%matplotlib inline\n",
    "from matplotlib import gridspec"
   ]
  },
  {
   "cell_type": "code",
   "execution_count": 2,
   "metadata": {
    "collapsed": true
   },
   "outputs": [],
   "source": [
    "spike_data_binned = np.load('/home/linggel/neuroscience/standard_data_format/spike_data_binned.npy')\n",
    "lfp_data_sampled = np.load('/home/linggel/neuroscience/standard_data_format/lfp_data_sampled.npy')\n",
    "lfp_data_sampled = np.swapaxes(lfp_data_sampled, 1, 2)\n",
    "trial_info = np.load('/home/linggel/neuroscience/standard_data_format/trial_info.npy')"
   ]
  },
  {
   "cell_type": "code",
   "execution_count": 3,
   "metadata": {
    "collapsed": true
   },
   "outputs": [],
   "source": [
    "rat_correct = trial_info[:, 0] == 1\n",
    "in_sequence = trial_info[:, 1] == 1\n",
    "not_odor_e = trial_info[:, 3] < 5\n",
    "select = rat_correct & in_sequence & not_odor_e"
   ]
  },
  {
   "cell_type": "code",
   "execution_count": 4,
   "metadata": {
    "collapsed": true
   },
   "outputs": [],
   "source": [
    "spike_data_binned = spike_data_binned[select, :, :]\n",
    "spike_data_binned = (spike_data_binned - np.mean(spike_data_binned)) / np.std(spike_data_binned)\n",
    "lfp_data_sampled = lfp_data_sampled[select, :, :]"
   ]
  },
  {
   "cell_type": "code",
   "execution_count": 5,
   "metadata": {
    "collapsed": true
   },
   "outputs": [],
   "source": [
    "decoding_start = 210\n",
    "decoding_end = decoding_start + 25"
   ]
  },
  {
   "cell_type": "code",
   "execution_count": 6,
   "metadata": {
    "collapsed": true
   },
   "outputs": [],
   "source": [
    "decoding_data_spike = spike_data_binned[:, :, decoding_start:decoding_end]\n",
    "decoding_data_lfp = lfp_data_sampled[:, :, decoding_start:decoding_end]"
   ]
  },
  {
   "cell_type": "code",
   "execution_count": 7,
   "metadata": {
    "collapsed": false
   },
   "outputs": [
    {
     "name": "stderr",
     "output_type": "stream",
     "text": [
      "Using Theano backend.\n"
     ]
    }
   ],
   "source": [
    "from keras.utils import np_utils"
   ]
  },
  {
   "cell_type": "code",
   "execution_count": 8,
   "metadata": {
    "collapsed": true
   },
   "outputs": [],
   "source": [
    "decoding_target = np_utils.to_categorical((trial_info[select, 3] - 1).astype(int))"
   ]
  },
  {
   "cell_type": "code",
   "execution_count": 9,
   "metadata": {
    "collapsed": true
   },
   "outputs": [],
   "source": [
    "tetrode_ids = [1, 10, 12, 13, 14, 15, 16, 18, 19, 2, 20, 21, 22, 23, 3, 4, 5, 6, 7, 8, 9]"
   ]
  },
  {
   "cell_type": "code",
   "execution_count": 10,
   "metadata": {
    "collapsed": true
   },
   "outputs": [],
   "source": [
    "tetrode_units = {1:3, 10:0, 12:1, 13:8, 14:4, 15:6, 16:1, 18:0, 19:4, 2:3,\n",
    "                20:0, 21:1, 22:5, 23:7, 3:0, 4:0, 5:0, 6:0, 7:1, 8:1, 9:1}"
   ]
  },
  {
   "cell_type": "code",
   "execution_count": 22,
   "metadata": {
    "collapsed": false
   },
   "outputs": [],
   "source": [
    "from data_utils import *\n",
    "from tetrode import *\n",
    "from helper import extract_latent"
   ]
  },
  {
   "cell_type": "code",
   "execution_count": 13,
   "metadata": {
    "collapsed": false
   },
   "outputs": [
    {
     "name": "stdout",
     "output_type": "stream",
     "text": [
      "Current tetrode 1 with 3 neurons/units\n",
      "(168, 1, 4, 25)\n",
      "Current tetrode 12 with 1 neurons/units\n",
      "(168, 1, 2, 25)\n",
      "Current tetrode 13 with 8 neurons/units\n",
      "(168, 1, 9, 25)\n",
      "Current tetrode 14 with 4 neurons/units\n",
      "(168, 1, 5, 25)\n",
      "Current tetrode 15 with 6 neurons/units\n",
      "(168, 1, 7, 25)\n",
      "Current tetrode 16 with 1 neurons/units\n",
      "(168, 1, 2, 25)\n",
      "Current tetrode 19 with 4 neurons/units\n",
      "(168, 1, 5, 25)\n",
      "Current tetrode 2 with 3 neurons/units\n",
      "(168, 1, 4, 25)\n",
      "Current tetrode 21 with 1 neurons/units\n",
      "(168, 1, 2, 25)\n",
      "Current tetrode 22 with 5 neurons/units\n",
      "(168, 1, 6, 25)\n",
      "Current tetrode 23 with 7 neurons/units\n",
      "(168, 1, 8, 25)\n",
      "Current tetrode 7 with 1 neurons/units\n",
      "(168, 1, 2, 25)\n",
      "Current tetrode 8 with 1 neurons/units\n",
      "(168, 1, 2, 25)\n",
      "Current tetrode 9 with 1 neurons/units\n",
      "(168, 1, 2, 25)\n"
     ]
    }
   ],
   "source": [
    "tetrode_data = organize_tetrode(decoding_data_spike, decoding_data_lfp, tetrode_ids, tetrode_units)"
   ]
  },
  {
   "cell_type": "code",
   "execution_count": 14,
   "metadata": {
    "collapsed": true
   },
   "outputs": [],
   "source": [
    "model = build_tetrode_model(tetrode_ids, tetrode_units)"
   ]
  },
  {
   "cell_type": "code",
   "execution_count": 15,
   "metadata": {
    "collapsed": true
   },
   "outputs": [],
   "source": [
    "hist = model.fit(tetrode_data, decoding_target, nb_epoch=150, batch_size=64, \n",
    "                 verbose=0, validation_split=0.1, shuffle=True)"
   ]
  },
  {
   "cell_type": "code",
   "execution_count": 16,
   "metadata": {
    "collapsed": false
   },
   "outputs": [
    {
     "data": {
      "image/png": "[encoded data removed]",
      "text/plain": [
       "<matplotlib.figure.Figure at 0x7fc5abd7b590>"
      ]
     },
     "metadata": {},
     "output_type": "display_data"
    }
   ],
   "source": [
    "fig = plt.figure(figsize=(6, 4))\n",
    "plt.plot(hist.history['acc'])\n",
    "plt.plot(hist.history['val_acc'])\n",
    "plt.show()"
   ]
  },
  {
   "cell_type": "code",
   "execution_count": 17,
   "metadata": {
    "collapsed": false
   },
   "outputs": [
    {
     "name": "stdout",
     "output_type": "stream",
     "text": [
      "____________________________________________________________________________________________________\n",
      "Layer (type)                     Output Shape          Param #     Connected to                     \n",
      "====================================================================================================\n",
      "input_1 (InputLayer)             (None, 1, 4, 25)      0                                            \n",
      "____________________________________________________________________________________________________\n",
      "input_2 (InputLayer)             (None, 1, 2, 25)      0                                            \n",
      "____________________________________________________________________________________________________\n",
      "input_3 (InputLayer)             (None, 1, 9, 25)      0                                            \n",
      "____________________________________________________________________________________________________\n",
      "input_4 (InputLayer)             (None, 1, 5, 25)      0                                            \n",
      "____________________________________________________________________________________________________\n",
      "input_5 (InputLayer)             (None, 1, 7, 25)      0                                            \n",
      "____________________________________________________________________________________________________\n",
      "input_6 (InputLayer)             (None, 1, 2, 25)      0                                            \n",
      "____________________________________________________________________________________________________\n",
      "input_7 (InputLayer)             (None, 1, 5, 25)      0                                            \n",
      "____________________________________________________________________________________________________\n",
      "input_8 (InputLayer)             (None, 1, 4, 25)      0                                            \n",
      "____________________________________________________________________________________________________\n",
      "input_9 (InputLayer)             (None, 1, 2, 25)      0                                            \n",
      "____________________________________________________________________________________________________\n",
      "input_10 (InputLayer)            (None, 1, 6, 25)      0                                            \n",
      "____________________________________________________________________________________________________\n",
      "input_11 (InputLayer)            (None, 1, 8, 25)      0                                            \n",
      "____________________________________________________________________________________________________\n",
      "input_12 (InputLayer)            (None, 1, 2, 25)      0                                            \n",
      "____________________________________________________________________________________________________\n",
      "input_13 (InputLayer)            (None, 1, 2, 25)      0                                            \n",
      "____________________________________________________________________________________________________\n",
      "input_14 (InputLayer)            (None, 1, 2, 25)      0                                            \n",
      "____________________________________________________________________________________________________\n",
      "convolution2d_1 (Convolution2D)  (None, 5, 1, 25)      25          input_1[0][0]                    \n",
      "____________________________________________________________________________________________________\n",
      "convolution2d_2 (Convolution2D)  (None, 5, 1, 25)      15          input_2[0][0]                    \n",
      "____________________________________________________________________________________________________\n",
      "convolution2d_3 (Convolution2D)  (None, 5, 1, 25)      50          input_3[0][0]                    \n",
      "____________________________________________________________________________________________________\n",
      "convolution2d_4 (Convolution2D)  (None, 5, 1, 25)      30          input_4[0][0]                    \n",
      "____________________________________________________________________________________________________\n",
      "convolution2d_5 (Convolution2D)  (None, 5, 1, 25)      40          input_5[0][0]                    \n",
      "____________________________________________________________________________________________________\n",
      "convolution2d_6 (Convolution2D)  (None, 5, 1, 25)      15          input_6[0][0]                    \n",
      "____________________________________________________________________________________________________\n",
      "convolution2d_7 (Convolution2D)  (None, 5, 1, 25)      30          input_7[0][0]                    \n",
      "____________________________________________________________________________________________________\n",
      "convolution2d_8 (Convolution2D)  (None, 5, 1, 25)      25          input_8[0][0]                    \n",
      "____________________________________________________________________________________________________\n",
      "convolution2d_9 (Convolution2D)  (None, 5, 1, 25)      15          input_9[0][0]                    \n",
      "____________________________________________________________________________________________________\n",
      "convolution2d_10 (Convolution2D) (None, 5, 1, 25)      35          input_10[0][0]                   \n",
      "____________________________________________________________________________________________________\n",
      "convolution2d_11 (Convolution2D) (None, 5, 1, 25)      45          input_11[0][0]                   \n",
      "____________________________________________________________________________________________________\n",
      "convolution2d_12 (Convolution2D) (None, 5, 1, 25)      15          input_12[0][0]                   \n",
      "____________________________________________________________________________________________________\n",
      "convolution2d_13 (Convolution2D) (None, 5, 1, 25)      15          input_13[0][0]                   \n",
      "____________________________________________________________________________________________________\n",
      "convolution2d_14 (Convolution2D) (None, 5, 1, 25)      15          input_14[0][0]                   \n",
      "____________________________________________________________________________________________________\n",
      "merge_1 (Merge)                  (None, 70, 1, 25)     0           convolution2d_1[0][0]            \n",
      "                                                                   convolution2d_2[0][0]            \n",
      "                                                                   convolution2d_3[0][0]            \n",
      "                                                                   convolution2d_4[0][0]            \n",
      "                                                                   convolution2d_5[0][0]            \n",
      "                                                                   convolution2d_6[0][0]            \n",
      "                                                                   convolution2d_7[0][0]            \n",
      "                                                                   convolution2d_8[0][0]            \n",
      "                                                                   convolution2d_9[0][0]            \n",
      "                                                                   convolution2d_10[0][0]           \n",
      "                                                                   convolution2d_11[0][0]           \n",
      "                                                                   convolution2d_12[0][0]           \n",
      "                                                                   convolution2d_13[0][0]           \n",
      "                                                                   convolution2d_14[0][0]           \n",
      "____________________________________________________________________________________________________\n",
      "averagepooling2d_1 (AveragePooli (None, 70, 1, 1)      0           merge_1[0][0]                    \n",
      "____________________________________________________________________________________________________\n",
      "flatten_1 (Flatten)              (None, 70)            0           averagepooling2d_1[0][0]         \n",
      "____________________________________________________________________________________________________\n",
      "dense_1 (Dense)                  (None, 10)            710         flatten_1[0][0]                  \n",
      "____________________________________________________________________________________________________\n",
      "dropout_1 (Dropout)              (None, 10)            0           dense_1[0][0]                    \n",
      "____________________________________________________________________________________________________\n",
      "dense_2 (Dense)                  (None, 4)             44          dropout_1[0][0]                  \n",
      "====================================================================================================\n",
      "Total params: 1,124\n",
      "Trainable params: 1,124\n",
      "Non-trainable params: 0\n",
      "____________________________________________________________________________________________________\n"
     ]
    }
   ],
   "source": [
    "model.summary()"
   ]
  },
  {
   "cell_type": "code",
   "execution_count": 18,
   "metadata": {
    "collapsed": false
   },
   "outputs": [],
   "source": [
    "intermediate_layer_model = Model(input=model.input,\n",
    "                                 output=model.get_layer('dense_1').output)"
   ]
  },
  {
   "cell_type": "code",
   "execution_count": 23,
   "metadata": {
    "collapsed": true
   },
   "outputs": [],
   "source": [
    "all_lower = extract_latent(intermediate_layer_model, spike_data_binned, lfp_data_sampled,\n",
    "                          tetrode_ids, tetrode_units, 25, 20)"
   ]
  },
  {
   "cell_type": "code",
   "execution_count": 24,
   "metadata": {
    "collapsed": false
   },
   "outputs": [
    {
     "name": "stdout",
     "output_type": "stream",
     "text": [
      "(168, 18, 10)\n"
     ]
    }
   ],
   "source": [
    "print(all_lower.shape)"
   ]
  },
  {
   "cell_type": "code",
   "execution_count": null,
   "metadata": {
    "collapsed": true
   },
   "outputs": [],
   "source": []
  }
 ],
 "metadata": {
  "kernelspec": {
   "display_name": "Python [deeplearning]",
   "language": "python",
   "name": "Python [deeplearning]"
  },
  "language_info": {
   "codemirror_mode": {
    "name": "ipython",
    "version": 2
   },
   "file_extension": ".py",
   "mimetype": "text/x-python",
   "name": "python",
   "nbconvert_exporter": "python",
   "pygments_lexer": "ipython2",
   "version": "2.7.12"
  }
 },
 "nbformat": 4,
 "nbformat_minor": 0
}
