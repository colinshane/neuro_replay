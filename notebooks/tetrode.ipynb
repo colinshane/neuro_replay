{
 "cells": [
  {
   "cell_type": "code",
   "execution_count": 1,
   "metadata": {
    "collapsed": false
   },
   "outputs": [],
   "source": [
    "import numpy as np\n",
    "import matplotlib\n",
    "matplotlib.use('Agg')\n",
    "import matplotlib.pyplot as plt\n",
    "%matplotlib inline"
   ]
  },
  {
   "cell_type": "code",
   "execution_count": 2,
   "metadata": {
    "collapsed": false
   },
   "outputs": [],
   "source": [
    "spike_data_binned = np.load('/home/linggel/neuroscience/standard_data_format/spike_data_binned.npy')\n",
    "lfp_data_sampled = np.load('/home/linggel/neuroscience/standard_data_format/lfp_data_sampled.npy')\n",
    "lfp_data_sampled = np.swapaxes(lfp_data_sampled, 1, 2)\n",
    "trial_info = np.load('/home/linggel/neuroscience/standard_data_format/trial_info.npy')"
   ]
  },
  {
   "cell_type": "code",
   "execution_count": 3,
   "metadata": {
    "collapsed": false
   },
   "outputs": [
    {
     "name": "stdout",
     "output_type": "stream",
     "text": [
      "(245, 46, 400)\n",
      "(245, 21, 400)\n"
     ]
    }
   ],
   "source": [
    "print(spike_data_binned.shape)\n",
    "print(lfp_data_sampled.shape)"
   ]
  },
  {
   "cell_type": "code",
   "execution_count": 4,
   "metadata": {
    "collapsed": true
   },
   "outputs": [],
   "source": [
    "rat_correct = trial_info[:, 0] == 1\n",
    "in_sequence = trial_info[:, 1] == 1\n",
    "not_odor_e = trial_info[:, 3] < 5\n",
    "select = rat_correct & in_sequence & not_odor_e"
   ]
  },
  {
   "cell_type": "code",
   "execution_count": 5,
   "metadata": {
    "collapsed": true
   },
   "outputs": [],
   "source": [
    "decoding_start = 210\n",
    "decoding_end = decoding_start + 25"
   ]
  },
  {
   "cell_type": "code",
   "execution_count": 6,
   "metadata": {
    "collapsed": true
   },
   "outputs": [],
   "source": [
    "decoding_data_spike = spike_data_binned[select, :, decoding_start:decoding_end]\n",
    "decoding_data_lfp = lfp_data_sampled[select, :, decoding_start:decoding_end]"
   ]
  },
  {
   "cell_type": "code",
   "execution_count": 7,
   "metadata": {
    "collapsed": true
   },
   "outputs": [],
   "source": [
    "decoding_data_spike = (decoding_data_spike - np.mean(decoding_data_spike)) / np.std(decoding_data_spike)"
   ]
  },
  {
   "cell_type": "code",
   "execution_count": 8,
   "metadata": {
    "collapsed": false
   },
   "outputs": [
    {
     "name": "stderr",
     "output_type": "stream",
     "text": [
      "Using Theano backend.\n"
     ]
    }
   ],
   "source": [
    "from keras.utils import np_utils"
   ]
  },
  {
   "cell_type": "code",
   "execution_count": 9,
   "metadata": {
    "collapsed": false
   },
   "outputs": [],
   "source": [
    "decoding_target = np_utils.to_categorical((trial_info[select, 3] - 1).astype(int))"
   ]
  },
  {
   "cell_type": "code",
   "execution_count": 10,
   "metadata": {
    "collapsed": true
   },
   "outputs": [],
   "source": [
    "tetrode_ids = [1, 10, 12, 13, 14, 15, 16, 18, 19, 2, 20, 21, 22, 23, 3, 4, 5, 6, 7, 8, 9]"
   ]
  },
  {
   "cell_type": "code",
   "execution_count": 11,
   "metadata": {
    "collapsed": true
   },
   "outputs": [],
   "source": [
    "tetrode_units = {1:3, 10:0, 12:1, 13:8, 14:4, 15:6, 16:1, 18:0, 19:4, 2:3,\n",
    "                20:0, 21:1, 22:5, 23:7, 3:0, 4:0, 5:0, 6:0, 7:1, 8:1, 9:1}"
   ]
  },
  {
   "cell_type": "code",
   "execution_count": 14,
   "metadata": {
    "collapsed": false
   },
   "outputs": [
    {
     "name": "stderr",
     "output_type": "stream",
     "text": [
      "/home/linggel/anaconda2/envs/deeplearning/lib/python2.7/site-packages/sklearn/cross_validation.py:44: DeprecationWarning: This module was deprecated in version 0.18 in favor of the model_selection module into which all the refactored classes and functions are moved. Also note that the interface of the new CV iterators are different from that of this module. This module will be removed in 0.20.\n",
      "  \"This module will be removed in 0.20.\", DeprecationWarning)\n"
     ]
    }
   ],
   "source": [
    "from data_utils import *\n",
    "from tetrode import *"
   ]
  },
  {
   "cell_type": "code",
   "execution_count": 15,
   "metadata": {
    "collapsed": false
   },
   "outputs": [
    {
     "name": "stdout",
     "output_type": "stream",
     "text": [
      "Current tetrode 1 with 3 neurons/units\n",
      "(168, 1, 4, 25)\n",
      "Current tetrode 12 with 1 neurons/units\n",
      "(168, 1, 2, 25)\n",
      "Current tetrode 13 with 8 neurons/units\n",
      "(168, 1, 9, 25)\n",
      "Current tetrode 14 with 4 neurons/units\n",
      "(168, 1, 5, 25)\n",
      "Current tetrode 15 with 6 neurons/units\n",
      "(168, 1, 7, 25)\n",
      "Current tetrode 16 with 1 neurons/units\n",
      "(168, 1, 2, 25)\n",
      "Current tetrode 19 with 4 neurons/units\n",
      "(168, 1, 5, 25)\n",
      "Current tetrode 2 with 3 neurons/units\n",
      "(168, 1, 4, 25)\n",
      "Current tetrode 21 with 1 neurons/units\n",
      "(168, 1, 2, 25)\n",
      "Current tetrode 22 with 5 neurons/units\n",
      "(168, 1, 6, 25)\n",
      "Current tetrode 23 with 7 neurons/units\n",
      "(168, 1, 8, 25)\n",
      "Current tetrode 7 with 1 neurons/units\n",
      "(168, 1, 2, 25)\n",
      "Current tetrode 8 with 1 neurons/units\n",
      "(168, 1, 2, 25)\n",
      "Current tetrode 9 with 1 neurons/units\n",
      "(168, 1, 2, 25)\n"
     ]
    }
   ],
   "source": [
    "tetrode_data = organize_tetrode(decoding_data_spike, decoding_data_lfp, tetrode_ids, tetrode_units)"
   ]
  },
  {
   "cell_type": "code",
   "execution_count": 16,
   "metadata": {
    "collapsed": false
   },
   "outputs": [],
   "source": [
    "model = build_tetrode_model(tetrode_ids, tetrode_units)"
   ]
  },
  {
   "cell_type": "code",
   "execution_count": 17,
   "metadata": {
    "collapsed": false
   },
   "outputs": [
    {
     "name": "stdout",
     "output_type": "stream",
     "text": [
      "____________________________________________________________________________________________________\n",
      "Layer (type)                     Output Shape          Param #     Connected to                     \n",
      "====================================================================================================\n",
      "input_1 (InputLayer)             (None, 1, 4, 25)      0                                            \n",
      "____________________________________________________________________________________________________\n",
      "input_2 (InputLayer)             (None, 1, 2, 25)      0                                            \n",
      "____________________________________________________________________________________________________\n",
      "input_3 (InputLayer)             (None, 1, 9, 25)      0                                            \n",
      "____________________________________________________________________________________________________\n",
      "input_4 (InputLayer)             (None, 1, 5, 25)      0                                            \n",
      "____________________________________________________________________________________________________\n",
      "input_5 (InputLayer)             (None, 1, 7, 25)      0                                            \n",
      "____________________________________________________________________________________________________\n",
      "input_6 (InputLayer)             (None, 1, 2, 25)      0                                            \n",
      "____________________________________________________________________________________________________\n",
      "input_7 (InputLayer)             (None, 1, 5, 25)      0                                            \n",
      "____________________________________________________________________________________________________\n",
      "input_8 (InputLayer)             (None, 1, 4, 25)      0                                            \n",
      "____________________________________________________________________________________________________\n",
      "input_9 (InputLayer)             (None, 1, 2, 25)      0                                            \n",
      "____________________________________________________________________________________________________\n",
      "input_10 (InputLayer)            (None, 1, 6, 25)      0                                            \n",
      "____________________________________________________________________________________________________\n",
      "input_11 (InputLayer)            (None, 1, 8, 25)      0                                            \n",
      "____________________________________________________________________________________________________\n",
      "input_12 (InputLayer)            (None, 1, 2, 25)      0                                            \n",
      "____________________________________________________________________________________________________\n",
      "input_13 (InputLayer)            (None, 1, 2, 25)      0                                            \n",
      "____________________________________________________________________________________________________\n",
      "input_14 (InputLayer)            (None, 1, 2, 25)      0                                            \n",
      "____________________________________________________________________________________________________\n",
      "convolution2d_1 (Convolution2D)  (None, 5, 1, 25)      25          input_1[0][0]                    \n",
      "____________________________________________________________________________________________________\n",
      "convolution2d_2 (Convolution2D)  (None, 5, 1, 25)      15          input_2[0][0]                    \n",
      "____________________________________________________________________________________________________\n",
      "convolution2d_3 (Convolution2D)  (None, 5, 1, 25)      50          input_3[0][0]                    \n",
      "____________________________________________________________________________________________________\n",
      "convolution2d_4 (Convolution2D)  (None, 5, 1, 25)      30          input_4[0][0]                    \n",
      "____________________________________________________________________________________________________\n",
      "convolution2d_5 (Convolution2D)  (None, 5, 1, 25)      40          input_5[0][0]                    \n",
      "____________________________________________________________________________________________________\n",
      "convolution2d_6 (Convolution2D)  (None, 5, 1, 25)      15          input_6[0][0]                    \n",
      "____________________________________________________________________________________________________\n",
      "convolution2d_7 (Convolution2D)  (None, 5, 1, 25)      30          input_7[0][0]                    \n",
      "____________________________________________________________________________________________________\n",
      "convolution2d_8 (Convolution2D)  (None, 5, 1, 25)      25          input_8[0][0]                    \n",
      "____________________________________________________________________________________________________\n",
      "convolution2d_9 (Convolution2D)  (None, 5, 1, 25)      15          input_9[0][0]                    \n",
      "____________________________________________________________________________________________________\n",
      "convolution2d_10 (Convolution2D) (None, 5, 1, 25)      35          input_10[0][0]                   \n",
      "____________________________________________________________________________________________________\n",
      "convolution2d_11 (Convolution2D) (None, 5, 1, 25)      45          input_11[0][0]                   \n",
      "____________________________________________________________________________________________________\n",
      "convolution2d_12 (Convolution2D) (None, 5, 1, 25)      15          input_12[0][0]                   \n",
      "____________________________________________________________________________________________________\n",
      "convolution2d_13 (Convolution2D) (None, 5, 1, 25)      15          input_13[0][0]                   \n",
      "____________________________________________________________________________________________________\n",
      "convolution2d_14 (Convolution2D) (None, 5, 1, 25)      15          input_14[0][0]                   \n",
      "____________________________________________________________________________________________________\n",
      "merge_1 (Merge)                  (None, 70, 1, 25)     0           convolution2d_1[0][0]            \n",
      "                                                                   convolution2d_2[0][0]            \n",
      "                                                                   convolution2d_3[0][0]            \n",
      "                                                                   convolution2d_4[0][0]            \n",
      "                                                                   convolution2d_5[0][0]            \n",
      "                                                                   convolution2d_6[0][0]            \n",
      "                                                                   convolution2d_7[0][0]            \n",
      "                                                                   convolution2d_8[0][0]            \n",
      "                                                                   convolution2d_9[0][0]            \n",
      "                                                                   convolution2d_10[0][0]           \n",
      "                                                                   convolution2d_11[0][0]           \n",
      "                                                                   convolution2d_12[0][0]           \n",
      "                                                                   convolution2d_13[0][0]           \n",
      "                                                                   convolution2d_14[0][0]           \n",
      "____________________________________________________________________________________________________\n",
      "averagepooling2d_1 (AveragePooli (None, 70, 1, 1)      0           merge_1[0][0]                    \n",
      "____________________________________________________________________________________________________\n",
      "flatten_1 (Flatten)              (None, 70)            0           averagepooling2d_1[0][0]         \n",
      "____________________________________________________________________________________________________\n",
      "dense_1 (Dense)                  (None, 10)            710         flatten_1[0][0]                  \n",
      "____________________________________________________________________________________________________\n",
      "dropout_1 (Dropout)              (None, 10)            0           dense_1[0][0]                    \n",
      "____________________________________________________________________________________________________\n",
      "dense_2 (Dense)                  (None, 4)             44          dropout_1[0][0]                  \n",
      "====================================================================================================\n",
      "Total params: 1,124\n",
      "Trainable params: 1,124\n",
      "Non-trainable params: 0\n",
      "____________________________________________________________________________________________________\n"
     ]
    }
   ],
   "source": [
    "model.summary()"
   ]
  },
  {
   "cell_type": "code",
   "execution_count": 55,
   "metadata": {
    "collapsed": false
   },
   "outputs": [
    {
     "name": "stdout",
     "output_type": "stream",
     "text": [
      "Current fold validation accuracy: 0.736842095852\n",
      "Current fold validation accuracy: 0.777777791023\n",
      "Current fold validation accuracy: 0.764705896378\n",
      "Current fold validation accuracy: 0.764705896378\n",
      "Current fold validation accuracy: 0.823529422283\n",
      "Current fold validation accuracy: 0.823529422283\n",
      "Current fold validation accuracy: 0.882352948189\n",
      "Current fold validation accuracy: 0.8125\n",
      "Current fold validation accuracy: 0.866666674614\n",
      "Current fold validation accuracy: 0.866666674614\n"
     ]
    }
   ],
   "source": [
    "y_true, y_hat = cross_validate(tetrode_data, decoding_target, tetrode_ids, tetrode_units)"
   ]
  },
  {
   "cell_type": "code",
   "execution_count": 58,
   "metadata": {
    "collapsed": false
   },
   "outputs": [
    {
     "data": {
      "text/plain": [
       "0.72023809523809523"
      ]
     },
     "execution_count": 58,
     "metadata": {},
     "output_type": "execute_result"
    }
   ],
   "source": [
    "np.mean(y_true.argmax(-1) == y_hat.argmax(-1))"
   ]
  },
  {
   "cell_type": "code",
   "execution_count": 59,
   "metadata": {
    "collapsed": true
   },
   "outputs": [],
   "source": [
    "from sklearn.metrics import confusion_matrix"
   ]
  },
  {
   "cell_type": "code",
   "execution_count": 60,
   "metadata": {
    "collapsed": false
   },
   "outputs": [
    {
     "name": "stdout",
     "output_type": "stream",
     "text": [
      "[[57  1  0  0]\n",
      " [ 2 30  5  4]\n",
      " [ 1  4 19 13]\n",
      " [ 3  3 11 15]]\n"
     ]
    }
   ],
   "source": [
    "matrix = confusion_matrix(y_true.argmax(-1), y_hat.argmax(-1))\n",
    "print(matrix)"
   ]
  },
  {
   "cell_type": "code",
   "execution_count": 61,
   "metadata": {
    "collapsed": true
   },
   "outputs": [],
   "source": [
    "import itertools"
   ]
  },
  {
   "cell_type": "code",
   "execution_count": 62,
   "metadata": {
    "collapsed": true
   },
   "outputs": [],
   "source": [
    "def plot_confusion_matrix(cm, classes,\n",
    "                          normalize=False,\n",
    "                          title='Confusion matrix',\n",
    "                          cmap=plt.cm.Blues):\n",
    "    \"\"\"\n",
    "    This function prints and plots the confusion matrix.\n",
    "    Normalization can be applied by setting `normalize=True`.\n",
    "    \"\"\"\n",
    "    if normalize:\n",
    "        cm = cm.astype('float') / cm.sum(axis=1)[:, np.newaxis]\n",
    "        print(\"Normalized confusion matrix\")\n",
    "    else:\n",
    "        print('Confusion matrix, without normalization')\n",
    "\n",
    "    print(cm)\n",
    "\n",
    "    plt.imshow(cm, interpolation='nearest', cmap=cmap)\n",
    "    plt.title(title, fontsize=16)\n",
    "    plt.colorbar()\n",
    "    tick_marks = np.arange(len(classes))\n",
    "    plt.xticks(tick_marks, classes)\n",
    "    plt.yticks(tick_marks, classes)\n",
    "\n",
    "    fmt = '.2f' if normalize else 'd'\n",
    "    thresh = cm.max() / 2.\n",
    "    for i, j in itertools.product(range(cm.shape[0]), range(cm.shape[1])):\n",
    "        plt.text(j, i, format(cm[i, j], fmt),\n",
    "                 horizontalalignment=\"center\",\n",
    "                 color=\"white\" if cm[i, j] > thresh else \"black\", fontsize=14)\n",
    "\n",
    "    plt.tight_layout()\n",
    "    plt.ylabel('True label', fontsize=14)\n",
    "    plt.xlabel('Predicted label', fontsize=14)"
   ]
  },
  {
   "cell_type": "code",
   "execution_count": 63,
   "metadata": {
    "collapsed": false
   },
   "outputs": [
    {
     "name": "stdout",
     "output_type": "stream",
     "text": [
      "Normalized confusion matrix\n",
      "[[ 0.98275862  0.01724138  0.          0.        ]\n",
      " [ 0.04878049  0.73170732  0.12195122  0.09756098]\n",
      " [ 0.02702703  0.10810811  0.51351351  0.35135135]\n",
      " [ 0.09375     0.09375     0.34375     0.46875   ]]\n"
     ]
    },
    {
     "data": {
      "image/png": "[encoded data removed]",
      "text/plain": [
       "<matplotlib.figure.Figure at 0x7fd97564e2d0>"
      ]
     },
     "metadata": {},
     "output_type": "display_data"
    }
   ],
   "source": [
    "fig = plt.figure(figsize=(6, 6))\n",
    "plt.style.use('seaborn-white')\n",
    "plot_confusion_matrix(matrix, classes=['A', 'B', 'C', 'D'], normalize=True,\n",
    "                      title='Confusion matrix for neural network')\n",
    "plt.show()"
   ]
  },
  {
   "cell_type": "code",
   "execution_count": null,
   "metadata": {
    "collapsed": true
   },
   "outputs": [],
   "source": []
  }
 ],
 "metadata": {
  "anaconda-cloud": {},
  "kernelspec": {
   "display_name": "Python 3",
   "language": "python",
   "name": "python3"
  },
  "language_info": {
   "codemirror_mode": {
    "name": "ipython",
    "version": 3
   },
   "file_extension": ".py",
   "mimetype": "text/x-python",
   "name": "python",
   "nbconvert_exporter": "python",
   "pygments_lexer": "ipython3",
   "version": "3.5.1"
  }
 },
 "nbformat": 4,
 "nbformat_minor": 0
}
