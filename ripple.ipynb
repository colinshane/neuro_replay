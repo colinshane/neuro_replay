{
 "cells": [
  {
   "cell_type": "code",
   "execution_count": 16,
   "metadata": {
    "collapsed": true
   },
   "outputs": [],
   "source": [
    "from scipy.io import loadmat\n",
    "from scipy.stats import gaussian_kde"
   ]
  },
  {
   "cell_type": "code",
   "execution_count": 2,
   "metadata": {
    "collapsed": true
   },
   "outputs": [],
   "source": [
    "import numpy as np\n",
    "import matplotlib\n",
    "matplotlib.use('Agg')\n",
    "import matplotlib.pyplot as plt\n",
    "%matplotlib inline"
   ]
  },
  {
   "cell_type": "code",
   "execution_count": 17,
   "metadata": {
    "collapsed": false
   },
   "outputs": [
    {
     "name": "stderr",
     "output_type": "stream",
     "text": [
      "//anaconda/lib/python2.7/site-packages/sklearn/cross_validation.py:44: DeprecationWarning: This module was deprecated in version 0.18 in favor of the model_selection module into which all the refactored classes and functions are moved. Also note that the interface of the new CV iterators are different from that of this module. This module will be removed in 0.20.\n",
      "  \"This module will be removed in 0.20.\", DeprecationWarning)\n"
     ]
    }
   ],
   "source": [
    "from sklearn.linear_model import LogisticRegression\n",
    "from sklearn.cross_validation import KFold, StratifiedKFold"
   ]
  },
  {
   "cell_type": "code",
   "execution_count": 3,
   "metadata": {
    "collapsed": true
   },
   "outputs": [],
   "source": [
    "plt.style.use('seaborn-white')"
   ]
  },
  {
   "cell_type": "code",
   "execution_count": 4,
   "metadata": {
    "collapsed": true
   },
   "outputs": [],
   "source": [
    "data_odor = loadmat('/Users/linggeli/neuroscience/data/SuperChris/super_chris_extraction_odor2s.mat')\n",
    "swr_event = loadmat('/Users/linggeli/Downloads/SuperChris-2-12-09_MS_RippleEvents.mat')"
   ]
  },
  {
   "cell_type": "code",
   "execution_count": 5,
   "metadata": {
    "collapsed": false
   },
   "outputs": [
    {
     "data": {
      "image/png": "[encoded data removed]",
      "text/plain": [
       "<Figure size 1080x144 with 1 Axes>"
      ]
     },
     "metadata": {},
     "output_type": "display_data"
    }
   ],
   "source": [
    "fig = plt.figure(figsize=(15, 2))\n",
    "offset = 0.2\n",
    "for i in range(5):\n",
    "    actual_times = data_odor['trialTimeBins'][0][i][:, 0]\n",
    "    start = actual_times[0]\n",
    "    end = actual_times[-1]\n",
    "    mid = (start + end) * 0.5\n",
    "    plt.plot([start, end], [offset, offset], '-', linewidth=4, c='gray')\n",
    "    plt.plot([mid, mid], [offset - 0.01, offset + 0.01], '-', linewidth=2, c='blue')\n",
    "for j in range(200):\n",
    "    start, end = swr_event['swrIndices'][j, :]\n",
    "    plt.plot(start, 0, 'ro', lw=end-start, c='red')\n",
    "plt.xlim(120, 150)\n",
    "plt.xlabel('Time (s)', fontsize=16)\n",
    "plt.yticks([], [])\n",
    "plt.title('SWR events relative to trials', fontsize=16, fontweight='bold')\n",
    "plt.show()"
   ]
  },
  {
   "cell_type": "code",
   "execution_count": 6,
   "metadata": {
    "collapsed": true
   },
   "outputs": [],
   "source": [
    "select = (data_odor['trialInfo'][:, 0] == 1) & (data_odor['trialInfo'][:, 1] == 1) & (data_odor['trialInfo'][:, 3] < 5)"
   ]
  },
  {
   "cell_type": "code",
   "execution_count": 7,
   "metadata": {
    "collapsed": true
   },
   "outputs": [],
   "source": [
    "trial_times = []  \n",
    "trial_timebins = data_odor['trialTimeBins'][0, select]\n",
    "n_trial = trial_timebins.shape[0]\n",
    "for i in range(n_trial):\n",
    "    actual_times = trial_timebins[i][:, 0]\n",
    "    start = actual_times[0]\n",
    "    end = actual_times[-1]\n",
    "    trial_times.append([start, end])\n",
    "trial_times = np.asarray(trial_times)"
   ]
  },
  {
   "cell_type": "code",
   "execution_count": 8,
   "metadata": {
    "collapsed": true
   },
   "outputs": [],
   "source": [
    "def find_swr_event(swr_start, swr_end, trial_times):\n",
    "    n_trials = trial_times.shape[0]\n",
    "    for i in range(n_trials):\n",
    "        trial_start, trial_end = trial_times[i, :]\n",
    "        if swr_start > trial_start and swr_end < trial_end:\n",
    "            return i\n",
    "    return -1"
   ]
  },
  {
   "cell_type": "code",
   "execution_count": 9,
   "metadata": {
    "collapsed": true
   },
   "outputs": [],
   "source": [
    "n_swr = swr_event['swrIndices'].shape[0]\n",
    "swr_trial = np.zeros(n_swr)\n",
    "for i in range(n_swr):\n",
    "    swr_start, swr_end = swr_event['swrIndices'][i, :]\n",
    "    swr_trial[i] = find_swr_event(swr_start, swr_end, trial_times)"
   ]
  },
  {
   "cell_type": "code",
   "execution_count": 10,
   "metadata": {
    "collapsed": true
   },
   "outputs": [],
   "source": [
    "def align_swr_times(swr_start, swr_end, trial_start, trial_end):\n",
    "    mid = 0.5 * (trial_start + trial_end)\n",
    "    return swr_start - mid, swr_end - mid"
   ]
  },
  {
   "cell_type": "code",
   "execution_count": 11,
   "metadata": {
    "collapsed": true
   },
   "outputs": [],
   "source": [
    "swr_times_aligned = []\n",
    "for i, t in enumerate(swr_trial):\n",
    "    if t != -1:\n",
    "        swr_start, swr_end = swr_event['swrIndices'][i, :]\n",
    "        trial_start, trial_end = trial_times[int(t), :]\n",
    "        aligned_start, aligned_end = align_swr_times(swr_start, swr_end, trial_start, trial_end)\n",
    "        swr_times_aligned.append([aligned_start, aligned_end])\n",
    "swr_times_aligned = np.asarray(swr_times_aligned)"
   ]
  },
  {
   "cell_type": "code",
   "execution_count": 12,
   "metadata": {
    "collapsed": true
   },
   "outputs": [],
   "source": [
    "swr_trial_during = swr_trial[swr_trial != -1]"
   ]
  },
  {
   "cell_type": "code",
   "execution_count": 13,
   "metadata": {
    "collapsed": false
   },
   "outputs": [
    {
     "data": {
      "image/png": "[encoded data removed]",
      "text/plain": [
       "<Figure size 720x432 with 1 Axes>"
      ]
     },
     "metadata": {},
     "output_type": "display_data"
    }
   ],
   "source": [
    "fig = plt.figure(figsize=(10, 6))\n",
    "offset = 0.2\n",
    "n = swr_times_aligned.shape[0]\n",
    "for i in range(n):\n",
    "    plt.plot(swr_times_aligned[i, :], [i * offset, i * offset], '-', color='red')\n",
    "plt.xlabel('Time (s)', fontsize=16)\n",
    "plt.yticks([], [])\n",
    "plt.ylim(0, n * offset)\n",
    "plt.title('SWR events aligned', fontsize=16, fontweight='bold')\n",
    "plt.plot([0, 0], [0, n * offset], '--')\n",
    "plt.fill([0.1, 0.1, 0.35, 0.35], [0, n * offset, n * offset, 0], 'b', alpha=0.2)\n",
    "plt.show()"
   ]
  },
  {
   "cell_type": "code",
   "execution_count": 18,
   "metadata": {
    "collapsed": true
   },
   "outputs": [],
   "source": [
    "select_swr = swr_times_aligned[:, 0] > 1"
   ]
  },
  {
   "cell_type": "code",
   "execution_count": 19,
   "metadata": {
    "collapsed": true
   },
   "outputs": [],
   "source": [
    "swr_duration = swr_times_aligned[select_swr, 1] - swr_times_aligned[select_swr, 0]"
   ]
  },
  {
   "cell_type": "code",
   "execution_count": 20,
   "metadata": {
    "collapsed": false
   },
   "outputs": [
    {
     "data": {
      "image/png": "[encoded data removed]",
      "text/plain": [
       "<Figure size 432x288 with 1 Axes>"
      ]
     },
     "metadata": {},
     "output_type": "display_data"
    }
   ],
   "source": [
    "density = gaussian_kde(swr_duration * 1000)\n",
    "xs = np.linspace(0, 100, 100)\n",
    "density._compute_covariance()\n",
    "plt.plot(xs, density(xs))\n",
    "plt.xlabel('Time (ms)', fontsize=16)\n",
    "plt.title('SWR event duration', fontsize=16, fontweight='bold')\n",
    "plt.show()"
   ]
  },
  {
   "cell_type": "code",
   "execution_count": 21,
   "metadata": {
    "collapsed": false
   },
   "outputs": [
    {
     "name": "stdout",
     "output_type": "stream",
     "text": [
      "(168, 4000, 46)\n"
     ]
    }
   ],
   "source": [
    "all_spike_data = data_odor['unitEpoch'][select, 1:, :]\n",
    "print(all_spike_data.shape)"
   ]
  },
  {
   "cell_type": "code",
   "execution_count": 22,
   "metadata": {
    "collapsed": true
   },
   "outputs": [],
   "source": [
    "swr_index = 47\n",
    "trial_index = swr_trial_during[select_swr][swr_index]\n",
    "start_index, end_index = swr_times_aligned[swr_index] * 1000 + 2000\n",
    "swr_data = all_spike_data[int(trial_index), int(start_index):int(end_index), :]"
   ]
  },
  {
   "cell_type": "code",
   "execution_count": 23,
   "metadata": {
    "collapsed": false
   },
   "outputs": [
    {
     "name": "stdout",
     "output_type": "stream",
     "text": [
      "(29, 46)\n"
     ]
    }
   ],
   "source": [
    "print(swr_data.shape)"
   ]
  },
  {
   "cell_type": "code",
   "execution_count": 24,
   "metadata": {
    "collapsed": false
   },
   "outputs": [
    {
     "data": {
      "image/png": "[encoded data removed]",
      "text/plain": [
       "<Figure size 576x288 with 1 Axes>"
      ]
     },
     "metadata": {},
     "output_type": "display_data"
    }
   ],
   "source": [
    "fig = plt.figure(figsize=(8, 4))\n",
    "\n",
    "swr_index = 47\n",
    "trial_index = swr_trial_during[select_swr][swr_index]\n",
    "start_index, end_index = swr_times_aligned[swr_index] * 1000 + 2000\n",
    "swr_data = all_spike_data[int(trial_index), int(start_index):int(end_index), :]\n",
    "n_time, n_neuron = swr_data.shape\n",
    "for i in range(n_neuron):\n",
    "    plt.scatter(np.arange(n_time), np.ones(n_time) * i, s=swr_data[:, i] * 50, color='darkblue', alpha=0.5)\n",
    "\n",
    "swr_index = 10\n",
    "trial_index = swr_trial_during[select_swr][swr_index]\n",
    "start_index, end_index = swr_times_aligned[swr_index] * 1000 + 2000\n",
    "swr_data = all_spike_data[int(trial_index), int(start_index):int(end_index), :]\n",
    "n_time, n_neuron = swr_data.shape\n",
    "for i in range(n_neuron):\n",
    "    plt.scatter(np.arange(n_time), np.ones(n_time) * i, s=swr_data[:, i] * 50, color='darkgreen', alpha=0.5)\n",
    "    plt.plot([0, 60], [i, i], '-', c='gray', alpha=0.2)\n",
    "    \n",
    "plt.xlim(0, 50)\n",
    "plt.ylim(-1, 46)\n",
    "plt.xlabel('Time (ms)', fontsize=16)\n",
    "plt.yticks([], [])\n",
    "plt.title('Spike train data for SWR events', fontsize=16, fontweight='bold')\n",
    "plt.show()"
   ]
  },
  {
   "cell_type": "code",
   "execution_count": 25,
   "metadata": {
    "collapsed": true
   },
   "outputs": [],
   "source": [
    "mean_feature = []\n",
    "odor_target = []\n",
    "prev_trial = -1\n",
    "for i, t in enumerate(swr_trial_during[select_swr]):\n",
    "    if prev_trial != t:\n",
    "        start_index, end_index = swr_times_aligned[i] * 1000 + 2000\n",
    "        swr_data = all_spike_data[int(t), int(start_index):int(end_index), :]\n",
    "        mean_feature.append(np.mean(swr_data, axis=0))\n",
    "        odor_target.append(data_odor['trialInfo'][select, 3][int(t)])\n",
    "        prev_trial = t\n",
    "mean_feature = np.asarray(mean_feature)\n",
    "odor_target = np.asarray(odor_target)"
   ]
  },
  {
   "cell_type": "code",
   "execution_count": 26,
   "metadata": {
    "collapsed": false
   },
   "outputs": [
    {
     "name": "stdout",
     "output_type": "stream",
     "text": [
      "(123, 46)\n",
      "(123,)\n"
     ]
    }
   ],
   "source": [
    "print(mean_feature.shape)\n",
    "print(odor_target.shape)"
   ]
  },
  {
   "cell_type": "code",
   "execution_count": 27,
   "metadata": {
    "collapsed": false
   },
   "outputs": [
    {
     "name": "stdout",
     "output_type": "stream",
     "text": [
      "Current fold accuracy: 0.37037037037\n",
      "Current fold accuracy: 0.541666666667\n",
      "Current fold accuracy: 0.541666666667\n",
      "Current fold accuracy: 0.333333333333\n",
      "Current fold accuracy: 0.5\n",
      "0.45740740740740743\n"
     ]
    }
   ],
   "source": [
    "kf = StratifiedKFold(odor_target, n_folds=5)\n",
    "overall_acc = []\n",
    "y_total = np.zeros(odor_target.shape)\n",
    "y_hat_total = np.zeros(odor_target.shape)\n",
    "i = 0\n",
    "for train_index, test_index in kf:\n",
    "    X_train, X_test = mean_feature[train_index, :], mean_feature[test_index, :]\n",
    "    y_train, y_test = odor_target[train_index], odor_target[test_index]\n",
    "    model = LogisticRegression(multi_class='multinomial', solver='lbfgs', penalty='l2', C=100)\n",
    "    model.fit(X_train, y_train)\n",
    "    y_hat = model.predict(X_test)\n",
    "    n_k = y_hat.shape[0]\n",
    "    y_total[i:(i + n_k)] = y_test\n",
    "    y_hat_total[i:(i + n_k)] = y_hat\n",
    "    i += n_k\n",
    "    accuracy = np.mean(y_hat == y_test)\n",
    "    print('Current fold accuracy: {acc}'.format(acc=accuracy))\n",
    "    overall_acc.append(accuracy)\n",
    "print(np.mean(np.asarray(overall_acc)))"
   ]
  },
  {
   "cell_type": "code",
   "execution_count": null,
   "metadata": {
    "collapsed": true
   },
   "outputs": [],
   "source": []
  }
 ],
 "metadata": {
  "anaconda-cloud": {},
  "kernelspec": {
   "display_name": "Python [conda root]",
   "language": "python",
   "name": "conda-root-py"
  },
  "language_info": {
   "codemirror_mode": {
    "name": "ipython",
    "version": 2
   },
   "file_extension": ".py",
   "mimetype": "text/x-python",
   "name": "python",
   "nbconvert_exporter": "python",
   "pygments_lexer": "ipython2",
   "version": "2.7.3"
  }
 },
 "nbformat": 4,
 "nbformat_minor": 1
}
